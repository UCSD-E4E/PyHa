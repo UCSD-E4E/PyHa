{
 "cells": [
  {
   "cell_type": "code",
   "execution_count": 1,
   "metadata": {
    "scrolled": true
   },
   "outputs": [],
   "source": [
    "from PyHa.statistics import *\n",
    "from PyHa.IsoAutio import *\n",
    "from PyHa.visualizations import *\n",
    "from PyHa.annotation_post_processing import *\n",
    "import pandas as pd"
   ]
  },
  {
   "cell_type": "markdown",
   "metadata": {},
   "source": [
    "## Running Moment to Moment Labeling System on a Directory of WAV Files "
   ]
  },
  {
   "cell_type": "code",
   "execution_count": 2,
   "metadata": {},
   "outputs": [],
   "source": [
    "path = \"./TEST/\""
   ]
  },
  {
   "cell_type": "markdown",
   "metadata": {},
   "source": [
    "### Dictionary that defines the isolation technique and parameters used to generate automated labels "
   ]
  },
  {
   "cell_type": "code",
   "execution_count": 3,
   "metadata": {},
   "outputs": [],
   "source": [
    "# Example parameters for BirdNET\n",
    "#isolation_parameters = {\n",
    "#    \"model\" : \"birdnet\",\n",
    "#    \"output_path\" : \"outputs\",\n",
    "#    \"lat\" : 35.4244,\n",
    "#    \"lon\" : -120.7463,\n",
    "#    \"week\" : 18,\n",
    "#    \"min_conf\" : 0.5,\n",
    "#    \"filetype\" : \"wav\", \n",
    "#    \"num_predictions\" : 1,\n",
    "#    \"write_to_csv\" : False\n",
    "#}\n",
    "\n",
    "# Example Parameters for Microfaune\n",
    "isolation_parameters = {\n",
    "     \"model\" : \"microfaune\",\n",
    "     \"technique\" : \"simple\",\n",
    "     \"threshold_type\" : \"median\",\n",
    "     \"threshold_const\" : 2.0,\n",
    "     \"threshold_min\" : 0.0,\n",
    "     \"window_size\" : 2.0,\n",
    "     \"chunk_size\" : 5.0\n",
    "}\n",
    "\n",
    "# Example parameters for TweetyNET\n",
    "#isolation_parameters = {\n",
    "#     \"model\" : \"tweetynet\",\n",
    "#     \"tweety_output\": True,\n",
    "#    \"technique\" : \"steinberg\",\n",
    "#     \"threshold_type\" : \"median\",\n",
    "#     \"threshold_const\" : 2.0,\n",
    "#     \"threshold_min\" : 0.0,\n",
    "#     \"window_size\" : 2.0,\n",
    "#     \"chunk_size\" : 5.0\n",
    "#}"
   ]
  },
  {
   "cell_type": "markdown",
   "metadata": {},
   "source": [
    "### Pandas Ouput of Automated Labeling "
   ]
  },
  {
   "cell_type": "code",
   "execution_count": 4,
   "metadata": {
    "scrolled": true
   },
   "outputs": [
    {
     "name": "stderr",
     "output_type": "stream",
     "text": [
      "/Users/pranjalchatterjee/Documents/Internship/PyHa/PyHa/microfaune_package/microfaune/audio.py:126: FutureWarning: Pass y=[  0.   0.   0. ...  -5.  77. 133.] as keyword args. From version 0.10 passing these as positional arguments will result in an error\n",
      "  S = librosa.feature.melspectrogram(\n",
      "/Users/pranjalchatterjee/Documents/Internship/PyHa/PyHa/microfaune_package/microfaune/audio.py:126: FutureWarning: Pass y=[0. 0. 0. ... 0. 0. 0.] as keyword args. From version 0.10 passing these as positional arguments will result in an error\n",
      "  S = librosa.feature.melspectrogram(\n",
      "/Users/pranjalchatterjee/Documents/Internship/PyHa/PyHa/IsoAutio.py:858: FutureWarning: The frame.append method is deprecated and will be removed from pandas in a future version. Use pandas.concat instead.\n",
      "  annotations = annotations.append(new_entry)\n",
      "/Users/pranjalchatterjee/Documents/Internship/PyHa/PyHa/microfaune_package/microfaune/audio.py:126: FutureWarning: Pass y=[-1.1037528e-03  4.0041700e-02  5.1937710e-02 ...  1.1304269e+00\n",
      "  5.6555068e-01  1.3367674e-01] as keyword args. From version 0.10 passing these as positional arguments will result in an error\n",
      "  S = librosa.feature.melspectrogram(\n",
      "/Users/pranjalchatterjee/Documents/Internship/PyHa/PyHa/IsoAutio.py:858: FutureWarning: The frame.append method is deprecated and will be removed from pandas in a future version. Use pandas.concat instead.\n",
      "  annotations = annotations.append(new_entry)\n",
      "/Users/pranjalchatterjee/Documents/Internship/PyHa/PyHa/microfaune_package/microfaune/audio.py:126: FutureWarning: Pass y=[0. 0. 0. ... 0. 0. 0.] as keyword args. From version 0.10 passing these as positional arguments will result in an error\n",
      "  S = librosa.feature.melspectrogram(\n",
      "/Users/pranjalchatterjee/Documents/Internship/PyHa/PyHa/IsoAutio.py:858: FutureWarning: The frame.append method is deprecated and will be removed from pandas in a future version. Use pandas.concat instead.\n",
      "  annotations = annotations.append(new_entry)\n",
      "/Users/pranjalchatterjee/Documents/Internship/PyHa/PyHa/microfaune_package/microfaune/audio.py:126: FutureWarning: Pass y=[ 7.9516540e-05  6.2415183e-01  1.8553859e-04 ...  6.2527168e-01\n",
      "  4.9283687e-04 -6.2431914e-01] as keyword args. From version 0.10 passing these as positional arguments will result in an error\n",
      "  S = librosa.feature.melspectrogram(\n",
      "/Users/pranjalchatterjee/Documents/Internship/PyHa/PyHa/IsoAutio.py:858: FutureWarning: The frame.append method is deprecated and will be removed from pandas in a future version. Use pandas.concat instead.\n",
      "  annotations = annotations.append(new_entry)\n",
      "/Users/pranjalchatterjee/Documents/Internship/PyHa/PyHa/microfaune_package/microfaune/audio.py:126: FutureWarning: Pass y=[0. 0. 0. ... 0. 0. 0.] as keyword args. From version 0.10 passing these as positional arguments will result in an error\n",
      "  S = librosa.feature.melspectrogram(\n",
      "/Users/pranjalchatterjee/Documents/Internship/PyHa/PyHa/IsoAutio.py:858: FutureWarning: The frame.append method is deprecated and will be removed from pandas in a future version. Use pandas.concat instead.\n",
      "  annotations = annotations.append(new_entry)\n",
      "/Users/pranjalchatterjee/Documents/Internship/PyHa/PyHa/microfaune_package/microfaune/audio.py:126: FutureWarning: Pass y=[ 0.0000000e+00  8.8500576e-03 -4.6227811e-05 ...  8.6702835e-03\n",
      " -8.2182778e-05 -8.8757398e-03] as keyword args. From version 0.10 passing these as positional arguments will result in an error\n",
      "  S = librosa.feature.melspectrogram(\n",
      "/Users/pranjalchatterjee/Documents/Internship/PyHa/PyHa/IsoAutio.py:858: FutureWarning: The frame.append method is deprecated and will be removed from pandas in a future version. Use pandas.concat instead.\n",
      "  annotations = annotations.append(new_entry)\n",
      "/Users/pranjalchatterjee/Documents/Internship/PyHa/PyHa/microfaune_package/microfaune/audio.py:126: FutureWarning: Pass y=[0. 0. 0. ... 0. 0. 0.] as keyword args. From version 0.10 passing these as positional arguments will result in an error\n",
      "  S = librosa.feature.melspectrogram(\n",
      "/Users/pranjalchatterjee/Documents/Internship/PyHa/PyHa/IsoAutio.py:858: FutureWarning: The frame.append method is deprecated and will be removed from pandas in a future version. Use pandas.concat instead.\n",
      "  annotations = annotations.append(new_entry)\n",
      "/Users/pranjalchatterjee/Documents/Internship/PyHa/PyHa/microfaune_package/microfaune/audio.py:126: FutureWarning: Pass y=[0. 0. 0. ... 0. 0. 0.] as keyword args. From version 0.10 passing these as positional arguments will result in an error\n",
      "  S = librosa.feature.melspectrogram(\n",
      "/Users/pranjalchatterjee/Documents/Internship/PyHa/PyHa/IsoAutio.py:858: FutureWarning: The frame.append method is deprecated and will be removed from pandas in a future version. Use pandas.concat instead.\n",
      "  annotations = annotations.append(new_entry)\n",
      "/Users/pranjalchatterjee/Documents/Internship/PyHa/PyHa/microfaune_package/microfaune/audio.py:126: FutureWarning: Pass y=[  0.    0.    0.  ...  93.5 175.  112.5] as keyword args. From version 0.10 passing these as positional arguments will result in an error\n",
      "  S = librosa.feature.melspectrogram(\n",
      "/Users/pranjalchatterjee/Documents/Internship/PyHa/PyHa/IsoAutio.py:858: FutureWarning: The frame.append method is deprecated and will be removed from pandas in a future version. Use pandas.concat instead.\n",
      "  annotations = annotations.append(new_entry)\n"
     ]
    }
   ],
   "source": [
    "automated_df = generate_automated_labels(path,isolation_parameters);"
   ]
  },
  {
   "cell_type": "markdown",
   "metadata": {},
   "source": [
    "### Function that gathers statistics about the duration of annotations"
   ]
  },
  {
   "cell_type": "code",
   "execution_count": 5,
   "metadata": {},
   "outputs": [
    {
     "data": {
      "text/html": [
       "<div>\n",
       "<style scoped>\n",
       "    .dataframe tbody tr th:only-of-type {\n",
       "        vertical-align: middle;\n",
       "    }\n",
       "\n",
       "    .dataframe tbody tr th {\n",
       "        vertical-align: top;\n",
       "    }\n",
       "\n",
       "    .dataframe thead th {\n",
       "        text-align: right;\n",
       "    }\n",
       "</style>\n",
       "<table border=\"1\" class=\"dataframe\">\n",
       "  <thead>\n",
       "    <tr style=\"text-align: right;\">\n",
       "      <th></th>\n",
       "      <th>COUNT</th>\n",
       "      <th>MODE</th>\n",
       "      <th>MEAN</th>\n",
       "      <th>STANDARD DEVIATION</th>\n",
       "      <th>MIN</th>\n",
       "      <th>Q1</th>\n",
       "      <th>MEDIAN</th>\n",
       "      <th>Q3</th>\n",
       "      <th>MAX</th>\n",
       "    </tr>\n",
       "  </thead>\n",
       "  <tbody>\n",
       "    <tr>\n",
       "      <th>0</th>\n",
       "      <td>731</td>\n",
       "      <td>0.07</td>\n",
       "      <td>0.190307</td>\n",
       "      <td>0.252738</td>\n",
       "      <td>0.023197</td>\n",
       "      <td>0.069592</td>\n",
       "      <td>0.115986</td>\n",
       "      <td>0.208776</td>\n",
       "      <td>2.366122</td>\n",
       "    </tr>\n",
       "  </tbody>\n",
       "</table>\n",
       "</div>"
      ],
      "text/plain": [
       "   COUNT  MODE      MEAN  STANDARD DEVIATION       MIN        Q1    MEDIAN  \\\n",
       "0    731  0.07  0.190307            0.252738  0.023197  0.069592  0.115986   \n",
       "\n",
       "         Q3       MAX  \n",
       "0  0.208776  2.366122  "
      ]
     },
     "execution_count": 5,
     "metadata": {},
     "output_type": "execute_result"
    }
   ],
   "source": [
    "annotation_duration_statistics(automated_df)"
   ]
  },
  {
   "cell_type": "markdown",
   "metadata": {},
   "source": [
    "### Function that converts annotations into 3 second chunks"
   ]
  },
  {
   "cell_type": "code",
   "execution_count": 6,
   "metadata": {},
   "outputs": [
    {
     "data": {
      "text/html": [
       "<div>\n",
       "<style scoped>\n",
       "    .dataframe tbody tr th:only-of-type {\n",
       "        vertical-align: middle;\n",
       "    }\n",
       "\n",
       "    .dataframe tbody tr th {\n",
       "        vertical-align: top;\n",
       "    }\n",
       "\n",
       "    .dataframe thead th {\n",
       "        text-align: right;\n",
       "    }\n",
       "</style>\n",
       "<table border=\"1\" class=\"dataframe\">\n",
       "  <thead>\n",
       "    <tr style=\"text-align: right;\">\n",
       "      <th></th>\n",
       "      <th>IN FILE</th>\n",
       "      <th>CLIP LENGTH</th>\n",
       "      <th>CHANNEL</th>\n",
       "      <th>OFFSET</th>\n",
       "      <th>DURATION</th>\n",
       "      <th>SAMPLE RATE</th>\n",
       "      <th>MANUAL ID</th>\n",
       "    </tr>\n",
       "  </thead>\n",
       "  <tbody>\n",
       "    <tr>\n",
       "      <th>0</th>\n",
       "      <td>ScreamingPiha9.wav</td>\n",
       "      <td>37.302857</td>\n",
       "      <td>0</td>\n",
       "      <td>0.0</td>\n",
       "      <td>3.0</td>\n",
       "      <td>44100</td>\n",
       "      <td>bird</td>\n",
       "    </tr>\n",
       "    <tr>\n",
       "      <th>1</th>\n",
       "      <td>ScreamingPiha9.wav</td>\n",
       "      <td>37.302857</td>\n",
       "      <td>0</td>\n",
       "      <td>3.0</td>\n",
       "      <td>3.0</td>\n",
       "      <td>44100</td>\n",
       "      <td>bird</td>\n",
       "    </tr>\n",
       "    <tr>\n",
       "      <th>2</th>\n",
       "      <td>ScreamingPiha9.wav</td>\n",
       "      <td>37.302857</td>\n",
       "      <td>0</td>\n",
       "      <td>6.0</td>\n",
       "      <td>3.0</td>\n",
       "      <td>44100</td>\n",
       "      <td>bird</td>\n",
       "    </tr>\n",
       "    <tr>\n",
       "      <th>3</th>\n",
       "      <td>ScreamingPiha9.wav</td>\n",
       "      <td>37.302857</td>\n",
       "      <td>0</td>\n",
       "      <td>9.0</td>\n",
       "      <td>3.0</td>\n",
       "      <td>44100</td>\n",
       "      <td>bird</td>\n",
       "    </tr>\n",
       "    <tr>\n",
       "      <th>4</th>\n",
       "      <td>ScreamingPiha9.wav</td>\n",
       "      <td>37.302857</td>\n",
       "      <td>0</td>\n",
       "      <td>12.0</td>\n",
       "      <td>3.0</td>\n",
       "      <td>44100</td>\n",
       "      <td>bird</td>\n",
       "    </tr>\n",
       "    <tr>\n",
       "      <th>...</th>\n",
       "      <td>...</td>\n",
       "      <td>...</td>\n",
       "      <td>...</td>\n",
       "      <td>...</td>\n",
       "      <td>...</td>\n",
       "      <td>...</td>\n",
       "      <td>...</td>\n",
       "    </tr>\n",
       "    <tr>\n",
       "      <th>172</th>\n",
       "      <td>ScreamingPiha5.wav</td>\n",
       "      <td>54.177959</td>\n",
       "      <td>0</td>\n",
       "      <td>48.0</td>\n",
       "      <td>3.0</td>\n",
       "      <td>44100</td>\n",
       "      <td>bird</td>\n",
       "    </tr>\n",
       "    <tr>\n",
       "      <th>173</th>\n",
       "      <td>ScreamingPiha5.wav</td>\n",
       "      <td>54.177959</td>\n",
       "      <td>0</td>\n",
       "      <td>51.0</td>\n",
       "      <td>3.0</td>\n",
       "      <td>44100</td>\n",
       "      <td>bird</td>\n",
       "    </tr>\n",
       "    <tr>\n",
       "      <th>174</th>\n",
       "      <td>ScreamingPiha4.wav</td>\n",
       "      <td>13.557551</td>\n",
       "      <td>0</td>\n",
       "      <td>3.0</td>\n",
       "      <td>3.0</td>\n",
       "      <td>44100</td>\n",
       "      <td>bird</td>\n",
       "    </tr>\n",
       "    <tr>\n",
       "      <th>175</th>\n",
       "      <td>ScreamingPiha4.wav</td>\n",
       "      <td>13.557551</td>\n",
       "      <td>0</td>\n",
       "      <td>6.0</td>\n",
       "      <td>3.0</td>\n",
       "      <td>44100</td>\n",
       "      <td>bird</td>\n",
       "    </tr>\n",
       "    <tr>\n",
       "      <th>176</th>\n",
       "      <td>ScreamingPiha4.wav</td>\n",
       "      <td>13.557551</td>\n",
       "      <td>0</td>\n",
       "      <td>9.0</td>\n",
       "      <td>3.0</td>\n",
       "      <td>44100</td>\n",
       "      <td>bird</td>\n",
       "    </tr>\n",
       "  </tbody>\n",
       "</table>\n",
       "<p>177 rows × 7 columns</p>\n",
       "</div>"
      ],
      "text/plain": [
       "                IN FILE  CLIP LENGTH  CHANNEL  OFFSET  DURATION  SAMPLE RATE  \\\n",
       "0    ScreamingPiha9.wav    37.302857        0     0.0       3.0        44100   \n",
       "1    ScreamingPiha9.wav    37.302857        0     3.0       3.0        44100   \n",
       "2    ScreamingPiha9.wav    37.302857        0     6.0       3.0        44100   \n",
       "3    ScreamingPiha9.wav    37.302857        0     9.0       3.0        44100   \n",
       "4    ScreamingPiha9.wav    37.302857        0    12.0       3.0        44100   \n",
       "..                  ...          ...      ...     ...       ...          ...   \n",
       "172  ScreamingPiha5.wav    54.177959        0    48.0       3.0        44100   \n",
       "173  ScreamingPiha5.wav    54.177959        0    51.0       3.0        44100   \n",
       "174  ScreamingPiha4.wav    13.557551        0     3.0       3.0        44100   \n",
       "175  ScreamingPiha4.wav    13.557551        0     6.0       3.0        44100   \n",
       "176  ScreamingPiha4.wav    13.557551        0     9.0       3.0        44100   \n",
       "\n",
       "    MANUAL ID  \n",
       "0        bird  \n",
       "1        bird  \n",
       "2        bird  \n",
       "3        bird  \n",
       "4        bird  \n",
       "..        ...  \n",
       "172      bird  \n",
       "173      bird  \n",
       "174      bird  \n",
       "175      bird  \n",
       "176      bird  \n",
       "\n",
       "[177 rows x 7 columns]"
      ]
     },
     "execution_count": 6,
     "metadata": {},
     "output_type": "execute_result"
    }
   ],
   "source": [
    "annotation_chunker(automated_df, 3)"
   ]
  },
  {
   "cell_type": "markdown",
   "metadata": {},
   "source": [
    "### Human Manual Labels for Comparison "
   ]
  },
  {
   "cell_type": "code",
   "execution_count": null,
   "metadata": {},
   "outputs": [],
   "source": [
    "manual_df = pd.read_csv(\"ScreamingPiha_Manual_Labels.csv\")\n",
    "#manual_df = pd.read_csv(\"BirdCLEF2020_Validation.csv\")\n",
    "manual_df"
   ]
  },
  {
   "cell_type": "code",
   "execution_count": null,
   "metadata": {},
   "outputs": [],
   "source": [
    "annotation_duration_statistics(manual_df)"
   ]
  },
  {
   "cell_type": "markdown",
   "metadata": {},
   "source": [
    "### Histogram Visualization of Annotation Lengths"
   ]
  },
  {
   "cell_type": "code",
   "execution_count": null,
   "metadata": {},
   "outputs": [],
   "source": [
    "annotation_duration_histogram(automated_df, n_bins = 100, title = \"Automated Annotation Lengths\")"
   ]
  },
  {
   "cell_type": "code",
   "execution_count": null,
   "metadata": {},
   "outputs": [],
   "source": [
    "annotation_duration_histogram(manual_df, n_bins = 100, title = \"Human Annotation Lengths\")\n",
    "# In the Screaming Piha clips we can see two distinct clusters based on the \"Whoa\" vocalizations (.25-1.25s)\n",
    "# and the \"Pee-Haw\" vocalizations (1.25-2.5s)"
   ]
  },
  {
   "cell_type": "markdown",
   "metadata": {},
   "source": [
    "### Helper function to convert to kaleidoscope-compatible format "
   ]
  },
  {
   "cell_type": "code",
   "execution_count": null,
   "metadata": {},
   "outputs": [],
   "source": [
    "kaleidoscope_conversion(manual_df)"
   ]
  },
  {
   "cell_type": "markdown",
   "metadata": {},
   "source": [
    "## Different Combinations of Local Score Visualization Graphs"
   ]
  },
  {
   "cell_type": "markdown",
   "metadata": {},
   "source": [
    "### Baseline Graph without any annotations"
   ]
  },
  {
   "cell_type": "code",
   "execution_count": null,
   "metadata": {
    "scrolled": false
   },
   "outputs": [],
   "source": [
    "clip_path = \"./TEST/ScreamingPiha2.wav\"\n",
    "spectrogram_visualization(clip_path)"
   ]
  },
  {
   "cell_type": "markdown",
   "metadata": {},
   "source": [
    "### Baseline graph with log scale"
   ]
  },
  {
   "cell_type": "code",
   "execution_count": null,
   "metadata": {},
   "outputs": [],
   "source": [
    "spectrogram_visualization(clip_path, isolation_parameters = isolation_parameters, log_scale = True)"
   ]
  },
  {
   "cell_type": "markdown",
   "metadata": {},
   "source": [
    "### Baseline graph with normalized local score values between [0,1] "
   ]
  },
  {
   "cell_type": "code",
   "execution_count": null,
   "metadata": {},
   "outputs": [],
   "source": [
    "spectrogram_visualization(clip_path, isolation_parameters = isolation_parameters, normalize_local_scores = True)"
   ]
  },
  {
   "cell_type": "markdown",
   "metadata": {},
   "source": [
    "### Graph with Automated Labeling "
   ]
  },
  {
   "cell_type": "code",
   "execution_count": null,
   "metadata": {},
   "outputs": [],
   "source": [
    "spectrogram_visualization(clip_path,automated_df = True, isolation_parameters = isolation_parameters)"
   ]
  },
  {
   "cell_type": "markdown",
   "metadata": {},
   "source": [
    "### Graph with Human Labelling"
   ]
  },
  {
   "cell_type": "code",
   "execution_count": null,
   "metadata": {},
   "outputs": [],
   "source": [
    "spectrogram_visualization(clip_path, premade_annotations_df = manual_df[manual_df[\"IN FILE\"] == \"ScreamingPiha2.wav\"],premade_annotations_label = \"Piha Human Labels\")"
   ]
  },
  {
   "cell_type": "markdown",
   "metadata": {},
   "source": [
    "### Graph with Both Automated and Human Labels \n",
    "    Orange ==> True Positive\n",
    "    Red ==> False Negative\n",
    "    Yellow ==> False Positive\n",
    "    White ==> True Negative"
   ]
  },
  {
   "cell_type": "code",
   "execution_count": null,
   "metadata": {
    "scrolled": false
   },
   "outputs": [],
   "source": [
    "spectrogram_visualization(clip_path,automated_df = True,isolation_parameters=isolation_parameters,premade_annotations_df = manual_df[manual_df[\"IN FILE\"] == \"ScreamingPiha2.wav\"])"
   ]
  },
  {
   "cell_type": "markdown",
   "metadata": {},
   "source": [
    "### Another Visualization of True Positives, False Positives, False Negatives, and True Negatives "
   ]
  },
  {
   "cell_type": "code",
   "execution_count": null,
   "metadata": {
    "scrolled": true
   },
   "outputs": [],
   "source": [
    "automated_piha_df = automated_df[automated_df[\"IN FILE\"] == \"ScreamingPiha2.wav\"]\n",
    "manual_piha_df = manual_df[manual_df[\"IN FILE\"] == \"ScreamingPiha2.wav\"]\n",
    "piha_stats = binary_visualization(automated_piha_df,manual_piha_df)"
   ]
  },
  {
   "cell_type": "markdown",
   "metadata": {},
   "source": [
    "### Function that generates statistics to gauge efficacy of automated labeling compared to human labels "
   ]
  },
  {
   "cell_type": "code",
   "execution_count": null,
   "metadata": {},
   "outputs": [],
   "source": [
    "statistics_df = automated_labeling_statistics(automated_df,manual_df,stats_type = \"general\");\n",
    "statistics_df"
   ]
  },
  {
   "cell_type": "markdown",
   "metadata": {},
   "source": [
    "### Function that takes the statistical ouput of all of the clips and gets the equivalent global scores "
   ]
  },
  {
   "cell_type": "code",
   "execution_count": null,
   "metadata": {},
   "outputs": [],
   "source": [
    "global_dataset_statistics(statistics_df)"
   ]
  },
  {
   "cell_type": "markdown",
   "metadata": {},
   "source": [
    "### Function that takes in the manual and automated labels for a clip and outputs human label-by-label IoU Scores. Used to derive statistics that measure how well a system is isolating desired segments of audio clips"
   ]
  },
  {
   "cell_type": "code",
   "execution_count": null,
   "metadata": {},
   "outputs": [],
   "source": [
    "Intersection_over_Union_Matrix = clip_IoU(automated_piha_df,manual_piha_df)\n",
    "print(Intersection_over_Union_Matrix)"
   ]
  },
  {
   "cell_type": "markdown",
   "metadata": {},
   "source": [
    "### Function that turns the IoU Matrix of a clip into true positive and false positives values, as well as computing the precision, recall, and F1 statistics"
   ]
  },
  {
   "cell_type": "code",
   "execution_count": null,
   "metadata": {},
   "outputs": [],
   "source": [
    "matrix_IoU_Scores(Intersection_over_Union_Matrix,manual_piha_df,0.5)"
   ]
  },
  {
   "cell_type": "markdown",
   "metadata": {},
   "source": [
    "### Wrapper function that takes matrix_IoU_Scores across multiple clips. Allows user to modify the threshold that determines whether or not a label is a true positive."
   ]
  },
  {
   "cell_type": "code",
   "execution_count": null,
   "metadata": {
    "scrolled": true
   },
   "outputs": [],
   "source": [
    "stats_df = automated_labeling_statistics(automated_df,manual_df,stats_type = \"IoU\",threshold = 0.5)\n",
    "stats_df"
   ]
  },
  {
   "cell_type": "markdown",
   "metadata": {},
   "source": [
    "### Function that takes the output of dataset_IoU Statistics and ouputs a global count of true positives and false positives, as well as computing common metrics across the dataset"
   ]
  },
  {
   "cell_type": "code",
   "execution_count": null,
   "metadata": {},
   "outputs": [],
   "source": [
    "global_stats_df = global_statistics(stats_df)\n",
    "global_stats_df"
   ]
  }
 ],
 "metadata": {
  "kernelspec": {
   "display_name": "Python 3.10.5 ('species-id')",
   "language": "python",
   "name": "python3"
  },
  "language_info": {
   "codemirror_mode": {
    "name": "ipython",
    "version": 3
   },
   "file_extension": ".py",
   "mimetype": "text/x-python",
   "name": "python",
   "nbconvert_exporter": "python",
   "pygments_lexer": "ipython3",
   "version": "3.10.5"
  },
  "vscode": {
   "interpreter": {
    "hash": "50f29603170da42ff0485de93cf455ea9e81b4c54cac7530327aeacc7af59708"
   }
  }
 },
 "nbformat": 4,
 "nbformat_minor": 4
}
