{
 "cells": [
  {
   "cell_type": "code",
   "execution_count": 1,
   "metadata": {},
   "outputs": [],
   "source": [
    "%load_ext autoreload\n",
    "%autoreload 2"
   ]
  },
  {
   "cell_type": "code",
   "execution_count": 2,
   "metadata": {
    "scrolled": true
   },
   "outputs": [],
   "source": [
    "from PyHa.statistics import *\n",
    "from PyHa.IsoAutio import *\n",
    "from PyHa.visualizations import *\n",
    "import pandas as pd"
   ]
  },
  {
   "cell_type": "markdown",
   "metadata": {},
   "source": [
    "## Running Moment to Moment Labeling System on a Directory of WAV Files "
   ]
  },
  {
   "cell_type": "code",
   "execution_count": 31,
   "metadata": {},
   "outputs": [],
   "source": [
    "path = \"./TEST/\""
   ]
  },
  {
   "cell_type": "markdown",
   "metadata": {},
   "source": [
    "### Dictionary that defines the isolation technique and parameters used to generate automated labels "
   ]
  },
  {
   "cell_type": "code",
   "execution_count": 32,
   "metadata": {},
   "outputs": [],
   "source": [
    "isolation_parameters = {\n",
    "   \"model\" : \"birdnet\",\n",
    "   \"output_path\" : \"outputs\",\n",
    "   \"min_conf\" : 0.5,\n",
    "   \"filetype\" : \"wav\", \n",
    "   \"num_predictions\" : 1,\n",
    "   \"write_to_csv\" : True\n",
    "}\n",
    "\n",
    "\n",
    "# # Example Parameters for Microfaune\n",
    "# isolation_parameters = {\n",
    "#      \"model\" : \"microfaune\",\n",
    "#      \"technique\" : \"steinberg\",\n",
    "#      \"threshold_type\" : \"median\",\n",
    "#      \"threshold_const\" : 2.0,\n",
    "#      \"threshold_min\" : 0.0,\n",
    "#      \"window_size\" : 2.0,\n",
    "#      \"chunk_size\" : 5.0\n",
    "# }\n",
    "\n",
    "# Example parameters for TweetyNET\n",
    "#isolation_parameters = {\n",
    "#     \"model\" : \"tweetynet\",\n",
    "#     \"tweety_output\": True,\n",
    "#     \"chunk_size\" : 3.0\n",
    "#}"
   ]
  },
  {
   "cell_type": "code",
   "execution_count": 65,
   "metadata": {
    "scrolled": true
   },
   "outputs": [
    {
     "name": "stdout",
     "output_type": "stream",
     "text": [
      "{'output_path': 'outputs', 'min_conf': 0.5, 'filetype': 'wav', 'num_predictions': 1, 'write_to_csv': True}\n",
      "PyHa/birdnet_analyzer/eBird_taxonomy_codes_2021E.json\n",
      "Species list contains 2434 species\n",
      "Found 11 files to analyze\n",
      "ScreamingPiha1.wav\n",
      "Analyzing ./TEST/\\ScreamingPiha1.wav\n",
      "Finished ./TEST/\\ScreamingPiha1.wav in 2.08 seconds\n",
      "ScreamingPiha10.wav\n",
      "Analyzing ./TEST/\\ScreamingPiha10.wav\n",
      "Finished ./TEST/\\ScreamingPiha10.wav in 6.45 seconds\n",
      "ScreamingPiha11.wav\n",
      "Analyzing ./TEST/\\ScreamingPiha11.wav\n",
      "Finished ./TEST/\\ScreamingPiha11.wav in 4.48 seconds\n",
      "ScreamingPiha2.wav\n",
      "Analyzing ./TEST/\\ScreamingPiha2.wav\n",
      "Finished ./TEST/\\ScreamingPiha2.wav in 2.25 seconds\n",
      "ScreamingPiha3.wav\n",
      "Analyzing ./TEST/\\ScreamingPiha3.wav\n",
      "Finished ./TEST/\\ScreamingPiha3.wav in 0.42 seconds\n",
      "ScreamingPiha4.wav\n",
      "Analyzing ./TEST/\\ScreamingPiha4.wav\n",
      "Finished ./TEST/\\ScreamingPiha4.wav in 0.85 seconds\n",
      "ScreamingPiha5.wav\n",
      "Analyzing ./TEST/\\ScreamingPiha5.wav\n",
      "Finished ./TEST/\\ScreamingPiha5.wav in 3.49 seconds\n",
      "ScreamingPiha6.wav\n",
      "Analyzing ./TEST/\\ScreamingPiha6.wav\n",
      "Finished ./TEST/\\ScreamingPiha6.wav in 4.41 seconds\n",
      "ScreamingPiha7.wav\n",
      "Analyzing ./TEST/\\ScreamingPiha7.wav\n",
      "Finished ./TEST/\\ScreamingPiha7.wav in 8.41 seconds\n",
      "ScreamingPiha8.wav\n",
      "Analyzing ./TEST/\\ScreamingPiha8.wav\n",
      "Finished ./TEST/\\ScreamingPiha8.wav in 2.75 seconds\n",
      "ScreamingPiha9.wav\n",
      "Analyzing ./TEST/\\ScreamingPiha9.wav\n",
      "Finished ./TEST/\\ScreamingPiha9.wav in 2.36 seconds\n"
     ]
    },
    {
     "data": {
      "text/html": [
       "<div>\n",
       "<style scoped>\n",
       "    .dataframe tbody tr th:only-of-type {\n",
       "        vertical-align: middle;\n",
       "    }\n",
       "\n",
       "    .dataframe tbody tr th {\n",
       "        vertical-align: top;\n",
       "    }\n",
       "\n",
       "    .dataframe thead th {\n",
       "        text-align: right;\n",
       "    }\n",
       "</style>\n",
       "<table border=\"1\" class=\"dataframe\">\n",
       "  <thead>\n",
       "    <tr style=\"text-align: right;\">\n",
       "      <th></th>\n",
       "      <th>FOLDER</th>\n",
       "      <th>IN FILE</th>\n",
       "      <th>CLIP LENGTH</th>\n",
       "      <th>CHANNEL</th>\n",
       "      <th>OFFSET</th>\n",
       "      <th>DURATION</th>\n",
       "      <th>SAMPLE RATE</th>\n",
       "      <th>MANUAL ID</th>\n",
       "    </tr>\n",
       "  </thead>\n",
       "  <tbody>\n",
       "    <tr>\n",
       "      <th>0</th>\n",
       "      <td>./TEST/</td>\n",
       "      <td>ScreamingPiha1.wav</td>\n",
       "      <td>71.000816</td>\n",
       "      <td>1</td>\n",
       "      <td>0.0</td>\n",
       "      <td>3.0</td>\n",
       "      <td>48000</td>\n",
       "      <td>Screaming Piha</td>\n",
       "    </tr>\n",
       "    <tr>\n",
       "      <th>1</th>\n",
       "      <td>./TEST/</td>\n",
       "      <td>ScreamingPiha1.wav</td>\n",
       "      <td>71.000816</td>\n",
       "      <td>1</td>\n",
       "      <td>3.0</td>\n",
       "      <td>3.0</td>\n",
       "      <td>48000</td>\n",
       "      <td>Screaming Piha</td>\n",
       "    </tr>\n",
       "    <tr>\n",
       "      <th>2</th>\n",
       "      <td>./TEST/</td>\n",
       "      <td>ScreamingPiha1.wav</td>\n",
       "      <td>71.000816</td>\n",
       "      <td>1</td>\n",
       "      <td>6.0</td>\n",
       "      <td>3.0</td>\n",
       "      <td>48000</td>\n",
       "      <td>Black-faced Antthrush</td>\n",
       "    </tr>\n",
       "    <tr>\n",
       "      <th>3</th>\n",
       "      <td>./TEST/</td>\n",
       "      <td>ScreamingPiha1.wav</td>\n",
       "      <td>71.000816</td>\n",
       "      <td>1</td>\n",
       "      <td>9.0</td>\n",
       "      <td>3.0</td>\n",
       "      <td>48000</td>\n",
       "      <td>Screaming Piha</td>\n",
       "    </tr>\n",
       "    <tr>\n",
       "      <th>4</th>\n",
       "      <td>./TEST/</td>\n",
       "      <td>ScreamingPiha1.wav</td>\n",
       "      <td>71.000816</td>\n",
       "      <td>1</td>\n",
       "      <td>9.0</td>\n",
       "      <td>3.0</td>\n",
       "      <td>48000</td>\n",
       "      <td>Golden-crowned Spadebill</td>\n",
       "    </tr>\n",
       "    <tr>\n",
       "      <th>...</th>\n",
       "      <td>...</td>\n",
       "      <td>...</td>\n",
       "      <td>...</td>\n",
       "      <td>...</td>\n",
       "      <td>...</td>\n",
       "      <td>...</td>\n",
       "      <td>...</td>\n",
       "      <td>...</td>\n",
       "    </tr>\n",
       "    <tr>\n",
       "      <th>7</th>\n",
       "      <td>./TEST/</td>\n",
       "      <td>ScreamingPiha9.wav</td>\n",
       "      <td>81.203537</td>\n",
       "      <td>1</td>\n",
       "      <td>21.0</td>\n",
       "      <td>3.0</td>\n",
       "      <td>48000</td>\n",
       "      <td>Screaming Piha</td>\n",
       "    </tr>\n",
       "    <tr>\n",
       "      <th>8</th>\n",
       "      <td>./TEST/</td>\n",
       "      <td>ScreamingPiha9.wav</td>\n",
       "      <td>81.203537</td>\n",
       "      <td>1</td>\n",
       "      <td>24.0</td>\n",
       "      <td>3.0</td>\n",
       "      <td>48000</td>\n",
       "      <td>Screaming Piha</td>\n",
       "    </tr>\n",
       "    <tr>\n",
       "      <th>9</th>\n",
       "      <td>./TEST/</td>\n",
       "      <td>ScreamingPiha9.wav</td>\n",
       "      <td>81.203537</td>\n",
       "      <td>1</td>\n",
       "      <td>27.0</td>\n",
       "      <td>3.0</td>\n",
       "      <td>48000</td>\n",
       "      <td>Screaming Piha</td>\n",
       "    </tr>\n",
       "    <tr>\n",
       "      <th>10</th>\n",
       "      <td>./TEST/</td>\n",
       "      <td>ScreamingPiha9.wav</td>\n",
       "      <td>81.203537</td>\n",
       "      <td>1</td>\n",
       "      <td>30.0</td>\n",
       "      <td>3.0</td>\n",
       "      <td>48000</td>\n",
       "      <td>Screaming Piha</td>\n",
       "    </tr>\n",
       "    <tr>\n",
       "      <th>11</th>\n",
       "      <td>./TEST/</td>\n",
       "      <td>ScreamingPiha9.wav</td>\n",
       "      <td>81.203537</td>\n",
       "      <td>1</td>\n",
       "      <td>33.0</td>\n",
       "      <td>3.0</td>\n",
       "      <td>48000</td>\n",
       "      <td>Screaming Piha</td>\n",
       "    </tr>\n",
       "  </tbody>\n",
       "</table>\n",
       "<p>217 rows × 8 columns</p>\n",
       "</div>"
      ],
      "text/plain": [
       "     FOLDER             IN FILE  CLIP LENGTH  CHANNEL  OFFSET  DURATION  \\\n",
       "0   ./TEST/  ScreamingPiha1.wav    71.000816        1     0.0       3.0   \n",
       "1   ./TEST/  ScreamingPiha1.wav    71.000816        1     3.0       3.0   \n",
       "2   ./TEST/  ScreamingPiha1.wav    71.000816        1     6.0       3.0   \n",
       "3   ./TEST/  ScreamingPiha1.wav    71.000816        1     9.0       3.0   \n",
       "4   ./TEST/  ScreamingPiha1.wav    71.000816        1     9.0       3.0   \n",
       "..      ...                 ...          ...      ...     ...       ...   \n",
       "7   ./TEST/  ScreamingPiha9.wav    81.203537        1    21.0       3.0   \n",
       "8   ./TEST/  ScreamingPiha9.wav    81.203537        1    24.0       3.0   \n",
       "9   ./TEST/  ScreamingPiha9.wav    81.203537        1    27.0       3.0   \n",
       "10  ./TEST/  ScreamingPiha9.wav    81.203537        1    30.0       3.0   \n",
       "11  ./TEST/  ScreamingPiha9.wav    81.203537        1    33.0       3.0   \n",
       "\n",
       "    SAMPLE RATE                 MANUAL ID  \n",
       "0         48000            Screaming Piha  \n",
       "1         48000            Screaming Piha  \n",
       "2         48000     Black-faced Antthrush  \n",
       "3         48000            Screaming Piha  \n",
       "4         48000  Golden-crowned Spadebill  \n",
       "..          ...                       ...  \n",
       "7         48000            Screaming Piha  \n",
       "8         48000            Screaming Piha  \n",
       "9         48000            Screaming Piha  \n",
       "10        48000            Screaming Piha  \n",
       "11        48000            Screaming Piha  \n",
       "\n",
       "[217 rows x 8 columns]"
      ]
     },
     "execution_count": 65,
     "metadata": {},
     "output_type": "execute_result"
    }
   ],
   "source": [
    " %reload_ext autoreload\n",
    "automated_df = generate_automated_labels(path,isolation_parameters);\n",
    "automated_df"
   ]
  },
  {
   "cell_type": "markdown",
   "metadata": {},
   "source": [
    "### Human Manual Labels for Comparison "
   ]
  },
  {
   "cell_type": "code",
   "execution_count": 50,
   "metadata": {},
   "outputs": [
    {
     "data": {
      "text/html": [
       "<div>\n",
       "<style scoped>\n",
       "    .dataframe tbody tr th:only-of-type {\n",
       "        vertical-align: middle;\n",
       "    }\n",
       "\n",
       "    .dataframe tbody tr th {\n",
       "        vertical-align: top;\n",
       "    }\n",
       "\n",
       "    .dataframe thead th {\n",
       "        text-align: right;\n",
       "    }\n",
       "</style>\n",
       "<table border=\"1\" class=\"dataframe\">\n",
       "  <thead>\n",
       "    <tr style=\"text-align: right;\">\n",
       "      <th></th>\n",
       "      <th>FOLDER</th>\n",
       "      <th>IN FILE</th>\n",
       "      <th>CLIP LENGTH</th>\n",
       "      <th>CHANNEL</th>\n",
       "      <th>OFFSET</th>\n",
       "      <th>DURATION</th>\n",
       "      <th>SAMPLE RATE</th>\n",
       "      <th>MANUAL ID</th>\n",
       "    </tr>\n",
       "  </thead>\n",
       "  <tbody>\n",
       "    <tr>\n",
       "      <th>0</th>\n",
       "      <td>./TEST/</td>\n",
       "      <td>ScreamingPiha1.wav</td>\n",
       "      <td>32.6160</td>\n",
       "      <td>0</td>\n",
       "      <td>1.5448</td>\n",
       "      <td>2.1297</td>\n",
       "      <td>16000</td>\n",
       "      <td>bird</td>\n",
       "    </tr>\n",
       "    <tr>\n",
       "      <th>1</th>\n",
       "      <td>./TEST/</td>\n",
       "      <td>ScreamingPiha1.wav</td>\n",
       "      <td>32.6160</td>\n",
       "      <td>0</td>\n",
       "      <td>10.1638</td>\n",
       "      <td>0.8498</td>\n",
       "      <td>16000</td>\n",
       "      <td>bird</td>\n",
       "    </tr>\n",
       "    <tr>\n",
       "      <th>2</th>\n",
       "      <td>./TEST/</td>\n",
       "      <td>ScreamingPiha1.wav</td>\n",
       "      <td>32.6160</td>\n",
       "      <td>0</td>\n",
       "      <td>0.5549</td>\n",
       "      <td>0.9999</td>\n",
       "      <td>16000</td>\n",
       "      <td>bird</td>\n",
       "    </tr>\n",
       "    <tr>\n",
       "      <th>3</th>\n",
       "      <td>./TEST/</td>\n",
       "      <td>ScreamingPiha1.wav</td>\n",
       "      <td>32.6160</td>\n",
       "      <td>0</td>\n",
       "      <td>8.7739</td>\n",
       "      <td>0.8399</td>\n",
       "      <td>16000</td>\n",
       "      <td>bird</td>\n",
       "    </tr>\n",
       "    <tr>\n",
       "      <th>4</th>\n",
       "      <td>./TEST/</td>\n",
       "      <td>ScreamingPiha1.wav</td>\n",
       "      <td>32.6160</td>\n",
       "      <td>0</td>\n",
       "      <td>12.6335</td>\n",
       "      <td>1.9997</td>\n",
       "      <td>16000</td>\n",
       "      <td>bird</td>\n",
       "    </tr>\n",
       "    <tr>\n",
       "      <th>...</th>\n",
       "      <td>...</td>\n",
       "      <td>...</td>\n",
       "      <td>...</td>\n",
       "      <td>...</td>\n",
       "      <td>...</td>\n",
       "      <td>...</td>\n",
       "      <td>...</td>\n",
       "      <td>...</td>\n",
       "    </tr>\n",
       "    <tr>\n",
       "      <th>249</th>\n",
       "      <td>./TEST/</td>\n",
       "      <td>ScreamingPiha2.wav</td>\n",
       "      <td>33.9331</td>\n",
       "      <td>0</td>\n",
       "      <td>26.9274</td>\n",
       "      <td>1.7602</td>\n",
       "      <td>44100</td>\n",
       "      <td>bird</td>\n",
       "    </tr>\n",
       "    <tr>\n",
       "      <th>250</th>\n",
       "      <td>./TEST/</td>\n",
       "      <td>ScreamingPiha2.wav</td>\n",
       "      <td>33.9331</td>\n",
       "      <td>0</td>\n",
       "      <td>30.8178</td>\n",
       "      <td>0.7200</td>\n",
       "      <td>44100</td>\n",
       "      <td>bird</td>\n",
       "    </tr>\n",
       "    <tr>\n",
       "      <th>251</th>\n",
       "      <td>./TEST/</td>\n",
       "      <td>ScreamingPiha2.wav</td>\n",
       "      <td>33.9331</td>\n",
       "      <td>0</td>\n",
       "      <td>29.8677</td>\n",
       "      <td>0.9401</td>\n",
       "      <td>44100</td>\n",
       "      <td>bird</td>\n",
       "    </tr>\n",
       "    <tr>\n",
       "      <th>252</th>\n",
       "      <td>./TEST/</td>\n",
       "      <td>ScreamingPiha2.wav</td>\n",
       "      <td>33.9331</td>\n",
       "      <td>0</td>\n",
       "      <td>31.5378</td>\n",
       "      <td>1.9502</td>\n",
       "      <td>44100</td>\n",
       "      <td>bird</td>\n",
       "    </tr>\n",
       "    <tr>\n",
       "      <th>253</th>\n",
       "      <td>./TEST/</td>\n",
       "      <td>ScreamingPiha2.wav</td>\n",
       "      <td>33.9331</td>\n",
       "      <td>0</td>\n",
       "      <td>33.7880</td>\n",
       "      <td>0.1100</td>\n",
       "      <td>44100</td>\n",
       "      <td>bird</td>\n",
       "    </tr>\n",
       "  </tbody>\n",
       "</table>\n",
       "<p>254 rows × 8 columns</p>\n",
       "</div>"
      ],
      "text/plain": [
       "      FOLDER             IN FILE  CLIP LENGTH  CHANNEL   OFFSET  DURATION  \\\n",
       "0    ./TEST/  ScreamingPiha1.wav      32.6160        0   1.5448    2.1297   \n",
       "1    ./TEST/  ScreamingPiha1.wav      32.6160        0  10.1638    0.8498   \n",
       "2    ./TEST/  ScreamingPiha1.wav      32.6160        0   0.5549    0.9999   \n",
       "3    ./TEST/  ScreamingPiha1.wav      32.6160        0   8.7739    0.8399   \n",
       "4    ./TEST/  ScreamingPiha1.wav      32.6160        0  12.6335    1.9997   \n",
       "..       ...                 ...          ...      ...      ...       ...   \n",
       "249  ./TEST/  ScreamingPiha2.wav      33.9331        0  26.9274    1.7602   \n",
       "250  ./TEST/  ScreamingPiha2.wav      33.9331        0  30.8178    0.7200   \n",
       "251  ./TEST/  ScreamingPiha2.wav      33.9331        0  29.8677    0.9401   \n",
       "252  ./TEST/  ScreamingPiha2.wav      33.9331        0  31.5378    1.9502   \n",
       "253  ./TEST/  ScreamingPiha2.wav      33.9331        0  33.7880    0.1100   \n",
       "\n",
       "     SAMPLE RATE MANUAL ID  \n",
       "0          16000      bird  \n",
       "1          16000      bird  \n",
       "2          16000      bird  \n",
       "3          16000      bird  \n",
       "4          16000      bird  \n",
       "..           ...       ...  \n",
       "249        44100      bird  \n",
       "250        44100      bird  \n",
       "251        44100      bird  \n",
       "252        44100      bird  \n",
       "253        44100      bird  \n",
       "\n",
       "[254 rows x 8 columns]"
      ]
     },
     "execution_count": 50,
     "metadata": {},
     "output_type": "execute_result"
    }
   ],
   "source": [
    "manual_df = pd.read_csv(\"ScreamingPiha_Manual_Labels.csv\")\n",
    "#manual_df = pd.read_csv(\"BirdCLEF2020_Validation.csv\")\n",
    "manual_df"
   ]
  },
  {
   "cell_type": "markdown",
   "metadata": {},
   "source": [
    "### Pandas Output of Automated Labeling "
   ]
  },
  {
   "cell_type": "code",
   "execution_count": null,
   "metadata": {
    "scrolled": true
   },
   "outputs": [],
   "source": [
    "automated_df"
   ]
  },
  {
   "cell_type": "markdown",
   "metadata": {},
   "source": [
    "### Function that gathers statistics about the duration of annotations"
   ]
  },
  {
   "cell_type": "code",
   "execution_count": null,
   "metadata": {},
   "outputs": [],
   "source": [
    "annotation_duration_statistics(automated_df)"
   ]
  },
  {
   "cell_type": "code",
   "execution_count": null,
   "metadata": {},
   "outputs": [],
   "source": [
    "annotation_duration_statistics(manual_df)"
   ]
  },
  {
   "cell_type": "markdown",
   "metadata": {},
   "source": [
    "### Histogram Visualization of Annotation Lengths"
   ]
  },
  {
   "cell_type": "code",
   "execution_count": null,
   "metadata": {},
   "outputs": [],
   "source": [
    "annotation_duration_histogram(automated_df, n_bins = 100, title = \"Automated Annotation Lengths\")"
   ]
  },
  {
   "cell_type": "code",
   "execution_count": null,
   "metadata": {},
   "outputs": [],
   "source": [
    "annotation_duration_histogram(manual_df, n_bins = 100, title = \"Human Annotation Lengths\")\n",
    "# In the Screaming Piha clips we can see two distinct clusters based on the \"Whoa\" vocalizations (.25-1.25s)\n",
    "# and the \"Pee-Haw\" vocalizations (1.25-2.5s)"
   ]
  },
  {
   "cell_type": "markdown",
   "metadata": {},
   "source": [
    "### Helper function to convert to kaleidoscope-compatible format "
   ]
  },
  {
   "cell_type": "code",
   "execution_count": null,
   "metadata": {},
   "outputs": [],
   "source": [
    "kaleidoscope_conversion(manual_df)"
   ]
  },
  {
   "cell_type": "markdown",
   "metadata": {},
   "source": [
    "## Different Combinations of Spectrogram and Local Score Visualization Graphs\n",
    "Note: Not all models support local score arrays."
   ]
  },
  {
   "cell_type": "markdown",
   "metadata": {},
   "source": [
    "### Baseline Graph without any annotations"
   ]
  },
  {
   "cell_type": "code",
   "execution_count": null,
   "metadata": {
    "scrolled": true
   },
   "outputs": [],
   "source": [
    "clip_path = \"./TEST/ScreamingPiha2.wav\"\n",
    "spectrogram_visualization(clip_path)"
   ]
  },
  {
   "cell_type": "markdown",
   "metadata": {},
   "source": [
    "### Baseline graph with log scale"
   ]
  },
  {
   "cell_type": "code",
   "execution_count": null,
   "metadata": {},
   "outputs": [],
   "source": [
    "spectrogram_visualization(clip_path, isolation_parameters = isolation_parameters, log_scale = True)"
   ]
  },
  {
   "cell_type": "markdown",
   "metadata": {},
   "source": [
    "### Baseline graph with normalized local score values between [0,1] "
   ]
  },
  {
   "cell_type": "code",
   "execution_count": null,
   "metadata": {},
   "outputs": [],
   "source": [
    "spectrogram_visualization(clip_path, isolation_parameters = isolation_parameters, normalize_local_scores = True)"
   ]
  },
  {
   "cell_type": "markdown",
   "metadata": {},
   "source": [
    "### Graph with Automated Labeling "
   ]
  },
  {
   "cell_type": "code",
   "execution_count": null,
   "metadata": {},
   "outputs": [],
   "source": [
    "spectrogram_visualization(clip_path,automated_df = True, isolation_parameters = isolation_parameters)"
   ]
  },
  {
   "cell_type": "markdown",
   "metadata": {},
   "source": [
    "### Spectrogram with Human Labelling"
   ]
  },
  {
   "cell_type": "code",
   "execution_count": null,
   "metadata": {},
   "outputs": [],
   "source": [
    "spectrogram_visualization(clip_path, premade_annotations_df = manual_df[manual_df[\"IN FILE\"] == \"ScreamingPiha2.wav\"],premade_annotations_label = \"Piha Human Labels\")"
   ]
  },
  {
   "cell_type": "markdown",
   "metadata": {},
   "source": [
    "### Graph with Both Automated and Human Labels "
   ]
  },
  {
   "cell_type": "code",
   "execution_count": null,
   "metadata": {
    "scrolled": false
   },
   "outputs": [],
   "source": [
    "spectrogram_visualization(clip_path,automated_df = True,isolation_parameters=isolation_parameters,premade_annotations_df = manual_df[manual_df[\"IN FILE\"] == \"ScreamingPiha2.wav\"])"
   ]
  },
  {
   "cell_type": "markdown",
   "metadata": {},
   "source": [
    "### Another Visualization of True Positives, False Positives, False Negatives, and True Negatives "
   ]
  },
  {
   "cell_type": "code",
   "execution_count": null,
   "metadata": {
    "scrolled": true
   },
   "outputs": [],
   "source": [
    "automated_piha_df = automated_df[automated_df[\"IN FILE\"] == \"ScreamingPiha2.wav\"]\n",
    "manual_piha_df = manual_df[manual_df[\"IN FILE\"] == \"ScreamingPiha2.wav\"]\n",
    "piha_stats = binary_visualization(automated_piha_df,manual_piha_df)"
   ]
  },
  {
   "cell_type": "markdown",
   "metadata": {},
   "source": [
    "### Function that generates statistics to gauge efficacy of automated labeling compared to human labels "
   ]
  },
  {
   "cell_type": "code",
   "execution_count": null,
   "metadata": {},
   "outputs": [],
   "source": [
    "# step necessary to make the birdnet_labels binary.\n",
    "automated_df['MANUAL ID']='bird'"
   ]
  },
  {
   "cell_type": "code",
   "execution_count": null,
   "metadata": {},
   "outputs": [],
   "source": [
    "clip_statistics_df = clip_statistics(automated_df,manual_df, stats_type = \"general\")\n",
    "clip_statistics_df"
   ]
  },
  {
   "cell_type": "markdown",
   "metadata": {},
   "source": [
    "### Function that takes the statistical ouput of all of the clips and gets the equivalent global scores "
   ]
  },
  {
   "cell_type": "code",
   "execution_count": null,
   "metadata": {},
   "outputs": [],
   "source": [
    "global_statistics(clip_statistics_df)"
   ]
  },
  {
   "cell_type": "markdown",
   "metadata": {},
   "source": [
    "### Function that takes in the manual and automated labels for a clip and outputs human label-by-label IoU Scores. Used to derive statistics that measure how well a system is isolating desired segments of audio clips"
   ]
  },
  {
   "cell_type": "code",
   "execution_count": null,
   "metadata": {},
   "outputs": [],
   "source": [
    "Intersection_over_Union_Matrix = clip_IoU(automated_piha_df,manual_piha_df)\n",
    "print(Intersection_over_Union_Matrix)"
   ]
  },
  {
   "cell_type": "markdown",
   "metadata": {},
   "source": [
    "### Function that turns the IoU Matrix of a clip into true positive and false positives values, as well as computing the precision, recall, and F1 statistics"
   ]
  },
  {
   "cell_type": "code",
   "execution_count": null,
   "metadata": {},
   "outputs": [],
   "source": [
    "matrix_IoU_Scores(Intersection_over_Union_Matrix,manual_piha_df,0.5)"
   ]
  },
  {
   "cell_type": "markdown",
   "metadata": {},
   "source": [
    "### Wrapper function that takes matrix_IoU_Scores across multiple clips. Allows user to modify the threshold that determines whether or not a label is a true positive."
   ]
  },
  {
   "cell_type": "code",
   "execution_count": null,
   "metadata": {},
   "outputs": [],
   "source": [
    "clip_stats_df = clip_statistics(automated_df,manual_df,stats_type = \"IoU\", threshold = 0.5)\n",
    "clip_stats_df"
   ]
  },
  {
   "cell_type": "markdown",
   "metadata": {},
   "source": [
    "### Function that takes the output of dataset_IoU Statistics and ouputs a global count of true positives and false positives, as well as computing common metrics across the dataset"
   ]
  },
  {
   "cell_type": "code",
   "execution_count": null,
   "metadata": {},
   "outputs": [],
   "source": [
    "global_stats_df = global_statistics(clip_stats_df)\n",
    "global_stats_df"
   ]
  },
  {
   "cell_type": "code",
   "execution_count": null,
   "metadata": {},
   "outputs": [],
   "source": []
  }
 ],
 "metadata": {
  "kernelspec": {
   "display_name": "Python 3",
   "language": "python",
   "name": "python3"
  },
  "language_info": {
   "codemirror_mode": {
    "name": "ipython",
    "version": 3
   },
   "file_extension": ".py",
   "mimetype": "text/x-python",
   "name": "python",
   "nbconvert_exporter": "python",
   "pygments_lexer": "ipython3",
   "version": "3.7.10"
  }
 },
 "nbformat": 4,
 "nbformat_minor": 4
}
