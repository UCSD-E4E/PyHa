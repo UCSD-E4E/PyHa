{
 "cells": [
  {
   "cell_type": "code",
   "execution_count": 1,
   "source": [
    "from PyHa.visualizations import annotation_histogram\n",
    "from PyHa.IsoAutio import generate_automated_labels\n",
    "from PyHa.statistics import *\n",
    "import pandas as pd"
   ],
   "outputs": [
    {
     "output_type": "stream",
     "name": "stderr",
     "text": [
      "C:\\Users\\Nishant Balaji\\miniforge3\\envs\\species-id\\lib\\site-packages\\tensorflow\\python\\framework\\dtypes.py:516: FutureWarning: Passing (type, 1) or '1type' as a synonym of type is deprecated; in a future version of numpy, it will be understood as (type, (1,)) / '(1,)type'.\n",
      "  _np_qint8 = np.dtype([(\"qint8\", np.int8, 1)])\n",
      "C:\\Users\\Nishant Balaji\\miniforge3\\envs\\species-id\\lib\\site-packages\\tensorflow\\python\\framework\\dtypes.py:517: FutureWarning: Passing (type, 1) or '1type' as a synonym of type is deprecated; in a future version of numpy, it will be understood as (type, (1,)) / '(1,)type'.\n",
      "  _np_quint8 = np.dtype([(\"quint8\", np.uint8, 1)])\n",
      "C:\\Users\\Nishant Balaji\\miniforge3\\envs\\species-id\\lib\\site-packages\\tensorflow\\python\\framework\\dtypes.py:518: FutureWarning: Passing (type, 1) or '1type' as a synonym of type is deprecated; in a future version of numpy, it will be understood as (type, (1,)) / '(1,)type'.\n",
      "  _np_qint16 = np.dtype([(\"qint16\", np.int16, 1)])\n",
      "C:\\Users\\Nishant Balaji\\miniforge3\\envs\\species-id\\lib\\site-packages\\tensorflow\\python\\framework\\dtypes.py:519: FutureWarning: Passing (type, 1) or '1type' as a synonym of type is deprecated; in a future version of numpy, it will be understood as (type, (1,)) / '(1,)type'.\n",
      "  _np_quint16 = np.dtype([(\"quint16\", np.uint16, 1)])\n",
      "C:\\Users\\Nishant Balaji\\miniforge3\\envs\\species-id\\lib\\site-packages\\tensorflow\\python\\framework\\dtypes.py:520: FutureWarning: Passing (type, 1) or '1type' as a synonym of type is deprecated; in a future version of numpy, it will be understood as (type, (1,)) / '(1,)type'.\n",
      "  _np_qint32 = np.dtype([(\"qint32\", np.int32, 1)])\n",
      "C:\\Users\\Nishant Balaji\\miniforge3\\envs\\species-id\\lib\\site-packages\\tensorflow\\python\\framework\\dtypes.py:525: FutureWarning: Passing (type, 1) or '1type' as a synonym of type is deprecated; in a future version of numpy, it will be understood as (type, (1,)) / '(1,)type'.\n",
      "  np_resource = np.dtype([(\"resource\", np.ubyte, 1)])\n",
      "C:\\Users\\Nishant Balaji\\miniforge3\\envs\\species-id\\lib\\site-packages\\tensorboard\\compat\\tensorflow_stub\\dtypes.py:541: FutureWarning: Passing (type, 1) or '1type' as a synonym of type is deprecated; in a future version of numpy, it will be understood as (type, (1,)) / '(1,)type'.\n",
      "  _np_qint8 = np.dtype([(\"qint8\", np.int8, 1)])\n",
      "C:\\Users\\Nishant Balaji\\miniforge3\\envs\\species-id\\lib\\site-packages\\tensorboard\\compat\\tensorflow_stub\\dtypes.py:542: FutureWarning: Passing (type, 1) or '1type' as a synonym of type is deprecated; in a future version of numpy, it will be understood as (type, (1,)) / '(1,)type'.\n",
      "  _np_quint8 = np.dtype([(\"quint8\", np.uint8, 1)])\n",
      "C:\\Users\\Nishant Balaji\\miniforge3\\envs\\species-id\\lib\\site-packages\\tensorboard\\compat\\tensorflow_stub\\dtypes.py:543: FutureWarning: Passing (type, 1) or '1type' as a synonym of type is deprecated; in a future version of numpy, it will be understood as (type, (1,)) / '(1,)type'.\n",
      "  _np_qint16 = np.dtype([(\"qint16\", np.int16, 1)])\n",
      "C:\\Users\\Nishant Balaji\\miniforge3\\envs\\species-id\\lib\\site-packages\\tensorboard\\compat\\tensorflow_stub\\dtypes.py:544: FutureWarning: Passing (type, 1) or '1type' as a synonym of type is deprecated; in a future version of numpy, it will be understood as (type, (1,)) / '(1,)type'.\n",
      "  _np_quint16 = np.dtype([(\"quint16\", np.uint16, 1)])\n",
      "C:\\Users\\Nishant Balaji\\miniforge3\\envs\\species-id\\lib\\site-packages\\tensorboard\\compat\\tensorflow_stub\\dtypes.py:545: FutureWarning: Passing (type, 1) or '1type' as a synonym of type is deprecated; in a future version of numpy, it will be understood as (type, (1,)) / '(1,)type'.\n",
      "  _np_qint32 = np.dtype([(\"qint32\", np.int32, 1)])\n",
      "C:\\Users\\Nishant Balaji\\miniforge3\\envs\\species-id\\lib\\site-packages\\tensorboard\\compat\\tensorflow_stub\\dtypes.py:550: FutureWarning: Passing (type, 1) or '1type' as a synonym of type is deprecated; in a future version of numpy, it will be understood as (type, (1,)) / '(1,)type'.\n",
      "  np_resource = np.dtype([(\"resource\", np.ubyte, 1)])\n"
     ]
    }
   ],
   "metadata": {}
  },
  {
   "cell_type": "code",
   "execution_count": 2,
   "source": [
    "isolation_parameters = {\r\n",
    "    \"technique\" : \"steinberg\",\r\n",
    "    \"threshold_type\" : \"median\",\r\n",
    "    \"threshold_const\" : 2.0,\r\n",
    "    \"threshold_min\" : 0.0,\r\n",
    "    \"window_size\" : 2.0,\r\n",
    "    \"chunk_size\" : 5.0\r\n",
    "}"
   ],
   "outputs": [],
   "metadata": {}
  },
  {
   "cell_type": "code",
   "execution_count": 3,
   "source": [
    "path = \"./TEST/\""
   ],
   "outputs": [],
   "metadata": {}
  },
  {
   "cell_type": "code",
   "execution_count": 4,
   "source": [
    "automated_df = generate_automated_labels(path,isolation_parameters,normalize_local_scores=True)"
   ],
   "outputs": [
    {
     "output_type": "stream",
     "name": "stdout",
     "text": [
      "WARNING:tensorflow:From C:\\Users\\Nishant Balaji\\miniforge3\\envs\\species-id\\lib\\site-packages\\tensorflow\\python\\ops\\init_ops.py:1251: calling VarianceScaling.__init__ (from tensorflow.python.ops.init_ops) with dtype is deprecated and will be removed in a future version.\n",
      "Instructions for updating:\n",
      "Call initializer instance with the dtype argument instead of passing it to the constructor\n",
      "WARNING:tensorflow:From C:\\Users\\Nishant Balaji\\miniforge3\\envs\\species-id\\lib\\site-packages\\tensorflow\\python\\ops\\init_ops.py:97: calling GlorotUniform.__init__ (from tensorflow.python.ops.init_ops) with dtype is deprecated and will be removed in a future version.\n",
      "Instructions for updating:\n",
      "Call initializer instance with the dtype argument instead of passing it to the constructor\n",
      "WARNING:tensorflow:From C:\\Users\\Nishant Balaji\\miniforge3\\envs\\species-id\\lib\\site-packages\\tensorflow\\python\\ops\\init_ops.py:97: calling Orthogonal.__init__ (from tensorflow.python.ops.init_ops) with dtype is deprecated and will be removed in a future version.\n",
      "Instructions for updating:\n",
      "Call initializer instance with the dtype argument instead of passing it to the constructor\n",
      "WARNING:tensorflow:From C:\\Users\\Nishant Balaji\\miniforge3\\envs\\species-id\\lib\\site-packages\\tensorflow\\python\\ops\\init_ops.py:97: calling Zeros.__init__ (from tensorflow.python.ops.init_ops) with dtype is deprecated and will be removed in a future version.\n",
      "Instructions for updating:\n",
      "Call initializer instance with the dtype argument instead of passing it to the constructor\n"
     ]
    }
   ],
   "metadata": {
    "scrolled": false
   }
  },
  {
   "cell_type": "code",
   "execution_count": 5,
   "source": [
    "automated_df"
   ],
   "outputs": [
    {
     "output_type": "execute_result",
     "data": {
      "text/plain": [
       "    FOLDER             IN FILE  CHANNEL  CLIP LENGTH  SAMPLE RATE     OFFSET  \\\n",
       "0  ./TEST/  ScreamingPiha2.wav        0    33.933061        44100   0.000000   \n",
       "1  ./TEST/  ScreamingPiha2.wav        0    33.933061        44100   2.781156   \n",
       "2  ./TEST/  ScreamingPiha2.wav        0    33.933061        44100  13.127143   \n",
       "3  ./TEST/  ScreamingPiha2.wav        0    33.933061        44100  18.578503   \n",
       "4  ./TEST/  ScreamingPiha2.wav        0    33.933061        44100  20.851837   \n",
       "5  ./TEST/  ScreamingPiha2.wav        0    33.933061        44100  31.337007   \n",
       "\n",
       "    DURATION MANUAL ID  \n",
       "0   1.974286      bird  \n",
       "1   9.515918      bird  \n",
       "2   2.440748      bird  \n",
       "3   2.023197      bird  \n",
       "4  10.281429      bird  \n",
       "5   2.255170      bird  "
      ],
      "text/html": [
       "<div>\n",
       "<style scoped>\n",
       "    .dataframe tbody tr th:only-of-type {\n",
       "        vertical-align: middle;\n",
       "    }\n",
       "\n",
       "    .dataframe tbody tr th {\n",
       "        vertical-align: top;\n",
       "    }\n",
       "\n",
       "    .dataframe thead th {\n",
       "        text-align: right;\n",
       "    }\n",
       "</style>\n",
       "<table border=\"1\" class=\"dataframe\">\n",
       "  <thead>\n",
       "    <tr style=\"text-align: right;\">\n",
       "      <th></th>\n",
       "      <th>FOLDER</th>\n",
       "      <th>IN FILE</th>\n",
       "      <th>CHANNEL</th>\n",
       "      <th>CLIP LENGTH</th>\n",
       "      <th>SAMPLE RATE</th>\n",
       "      <th>OFFSET</th>\n",
       "      <th>DURATION</th>\n",
       "      <th>MANUAL ID</th>\n",
       "    </tr>\n",
       "  </thead>\n",
       "  <tbody>\n",
       "    <tr>\n",
       "      <th>0</th>\n",
       "      <td>./TEST/</td>\n",
       "      <td>ScreamingPiha2.wav</td>\n",
       "      <td>0</td>\n",
       "      <td>33.933061</td>\n",
       "      <td>44100</td>\n",
       "      <td>0.000000</td>\n",
       "      <td>1.974286</td>\n",
       "      <td>bird</td>\n",
       "    </tr>\n",
       "    <tr>\n",
       "      <th>1</th>\n",
       "      <td>./TEST/</td>\n",
       "      <td>ScreamingPiha2.wav</td>\n",
       "      <td>0</td>\n",
       "      <td>33.933061</td>\n",
       "      <td>44100</td>\n",
       "      <td>2.781156</td>\n",
       "      <td>9.515918</td>\n",
       "      <td>bird</td>\n",
       "    </tr>\n",
       "    <tr>\n",
       "      <th>2</th>\n",
       "      <td>./TEST/</td>\n",
       "      <td>ScreamingPiha2.wav</td>\n",
       "      <td>0</td>\n",
       "      <td>33.933061</td>\n",
       "      <td>44100</td>\n",
       "      <td>13.127143</td>\n",
       "      <td>2.440748</td>\n",
       "      <td>bird</td>\n",
       "    </tr>\n",
       "    <tr>\n",
       "      <th>3</th>\n",
       "      <td>./TEST/</td>\n",
       "      <td>ScreamingPiha2.wav</td>\n",
       "      <td>0</td>\n",
       "      <td>33.933061</td>\n",
       "      <td>44100</td>\n",
       "      <td>18.578503</td>\n",
       "      <td>2.023197</td>\n",
       "      <td>bird</td>\n",
       "    </tr>\n",
       "    <tr>\n",
       "      <th>4</th>\n",
       "      <td>./TEST/</td>\n",
       "      <td>ScreamingPiha2.wav</td>\n",
       "      <td>0</td>\n",
       "      <td>33.933061</td>\n",
       "      <td>44100</td>\n",
       "      <td>20.851837</td>\n",
       "      <td>10.281429</td>\n",
       "      <td>bird</td>\n",
       "    </tr>\n",
       "    <tr>\n",
       "      <th>5</th>\n",
       "      <td>./TEST/</td>\n",
       "      <td>ScreamingPiha2.wav</td>\n",
       "      <td>0</td>\n",
       "      <td>33.933061</td>\n",
       "      <td>44100</td>\n",
       "      <td>31.337007</td>\n",
       "      <td>2.255170</td>\n",
       "      <td>bird</td>\n",
       "    </tr>\n",
       "  </tbody>\n",
       "</table>\n",
       "</div>"
      ]
     },
     "metadata": {},
     "execution_count": 5
    }
   ],
   "metadata": {
    "scrolled": true
   }
  },
  {
   "cell_type": "code",
   "execution_count": 6,
   "source": [
    "annotation_histogram(automated_df)"
   ],
   "outputs": [
    {
     "output_type": "display_data",
     "data": {
      "text/plain": [
       "<Figure size 432x288 with 1 Axes>"
      ],
      "image/png": "[encoded data removed]"
     },
     "metadata": {
      "needs_background": "light"
     }
    }
   ],
   "metadata": {}
  },
  {
   "cell_type": "code",
   "execution_count": null,
   "source": [],
   "outputs": [],
   "metadata": {}
  }
 ],
 "metadata": {
  "kernelspec": {
   "display_name": "Python 3",
   "language": "python",
   "name": "python3"
  },
  "language_info": {
   "codemirror_mode": {
    "name": "ipython",
    "version": 3
   },
   "file_extension": ".py",
   "mimetype": "text/x-python",
   "name": "python",
   "nbconvert_exporter": "python",
   "pygments_lexer": "ipython3",
   "version": "3.7.10"
  }
 },
 "nbformat": 4,
 "nbformat_minor": 5
}