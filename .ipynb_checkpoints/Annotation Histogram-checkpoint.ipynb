{
 "cells": [
  {
   "cell_type": "code",
   "execution_count": 48,
   "id": "642dd100",
   "metadata": {},
   "outputs": [],
   "source": [
    "from PyHa.visualizations import annotation_histogram\n",
    "from PyHa.IsoAutio import generate_automated_labels\n",
    "from PyHa.statistics import *\n",
    "import pandas as pd"
   ]
  },
  {
   "cell_type": "code",
   "execution_count": 49,
   "id": "dfa70f0f",
   "metadata": {},
   "outputs": [],
   "source": [
    "isolation_parameters = {\n",
    "    \"technique\" : \"steinberg\",\n",
    "    \"threshold_type\" : \"median\",\n",
    "    \"threshold_const\" : 2.0,\n",
    "    \"threshold_min\" : 0.0,\n",
    "    \"window_size\" : 2.0,\n",
    "    \"chunk_size\" : 5.0\n",
    "}"
   ]
  },
  {
   "cell_type": "code",
   "execution_count": 50,
   "id": "9bc79bb5",
   "metadata": {},
   "outputs": [],
   "source": [
    "path = \"./TEST/\""
   ]
  },
  {
   "cell_type": "code",
   "execution_count": 51,
   "id": "a2ffafef",
   "metadata": {
    "scrolled": false
   },
   "outputs": [],
   "source": [
    "automated_df = generate_automated_labels(path,isolation_parameters,normalize_local_scores=True)"
   ]
  },
  {
   "cell_type": "code",
   "execution_count": 52,
   "id": "30d74b1c",
   "metadata": {
    "scrolled": false
   },
   "outputs": [
    {
     "data": {
      "text/html": [
       "<div>\n",
       "<style scoped>\n",
       "    .dataframe tbody tr th:only-of-type {\n",
       "        vertical-align: middle;\n",
       "    }\n",
       "\n",
       "    .dataframe tbody tr th {\n",
       "        vertical-align: top;\n",
       "    }\n",
       "\n",
       "    .dataframe thead th {\n",
       "        text-align: right;\n",
       "    }\n",
       "</style>\n",
       "<table border=\"1\" class=\"dataframe\">\n",
       "  <thead>\n",
       "    <tr style=\"text-align: right;\">\n",
       "      <th></th>\n",
       "      <th>FOLDER</th>\n",
       "      <th>IN FILE</th>\n",
       "      <th>CHANNEL</th>\n",
       "      <th>CLIP LENGTH</th>\n",
       "      <th>SAMPLE RATE</th>\n",
       "      <th>OFFSET</th>\n",
       "      <th>DURATION</th>\n",
       "      <th>MANUAL ID</th>\n",
       "    </tr>\n",
       "  </thead>\n",
       "  <tbody>\n",
       "    <tr>\n",
       "      <th>0</th>\n",
       "      <td>./TEST/</td>\n",
       "      <td>ScreamingPiha2.wav</td>\n",
       "      <td>0</td>\n",
       "      <td>33.933061</td>\n",
       "      <td>44100</td>\n",
       "      <td>0.000000</td>\n",
       "      <td>1.974286</td>\n",
       "      <td>bird</td>\n",
       "    </tr>\n",
       "    <tr>\n",
       "      <th>1</th>\n",
       "      <td>./TEST/</td>\n",
       "      <td>ScreamingPiha2.wav</td>\n",
       "      <td>0</td>\n",
       "      <td>33.933061</td>\n",
       "      <td>44100</td>\n",
       "      <td>2.781156</td>\n",
       "      <td>9.515918</td>\n",
       "      <td>bird</td>\n",
       "    </tr>\n",
       "    <tr>\n",
       "      <th>2</th>\n",
       "      <td>./TEST/</td>\n",
       "      <td>ScreamingPiha2.wav</td>\n",
       "      <td>0</td>\n",
       "      <td>33.933061</td>\n",
       "      <td>44100</td>\n",
       "      <td>13.127143</td>\n",
       "      <td>2.440748</td>\n",
       "      <td>bird</td>\n",
       "    </tr>\n",
       "    <tr>\n",
       "      <th>3</th>\n",
       "      <td>./TEST/</td>\n",
       "      <td>ScreamingPiha2.wav</td>\n",
       "      <td>0</td>\n",
       "      <td>33.933061</td>\n",
       "      <td>44100</td>\n",
       "      <td>18.578503</td>\n",
       "      <td>2.023197</td>\n",
       "      <td>bird</td>\n",
       "    </tr>\n",
       "    <tr>\n",
       "      <th>4</th>\n",
       "      <td>./TEST/</td>\n",
       "      <td>ScreamingPiha2.wav</td>\n",
       "      <td>0</td>\n",
       "      <td>33.933061</td>\n",
       "      <td>44100</td>\n",
       "      <td>20.851837</td>\n",
       "      <td>10.281429</td>\n",
       "      <td>bird</td>\n",
       "    </tr>\n",
       "    <tr>\n",
       "      <th>5</th>\n",
       "      <td>./TEST/</td>\n",
       "      <td>ScreamingPiha2.wav</td>\n",
       "      <td>0</td>\n",
       "      <td>33.933061</td>\n",
       "      <td>44100</td>\n",
       "      <td>31.337007</td>\n",
       "      <td>2.255170</td>\n",
       "      <td>bird</td>\n",
       "    </tr>\n",
       "  </tbody>\n",
       "</table>\n",
       "</div>"
      ],
      "text/plain": [
       "    FOLDER             IN FILE  CHANNEL  CLIP LENGTH  SAMPLE RATE     OFFSET  \\\n",
       "0  ./TEST/  ScreamingPiha2.wav        0    33.933061        44100   0.000000   \n",
       "1  ./TEST/  ScreamingPiha2.wav        0    33.933061        44100   2.781156   \n",
       "2  ./TEST/  ScreamingPiha2.wav        0    33.933061        44100  13.127143   \n",
       "3  ./TEST/  ScreamingPiha2.wav        0    33.933061        44100  18.578503   \n",
       "4  ./TEST/  ScreamingPiha2.wav        0    33.933061        44100  20.851837   \n",
       "5  ./TEST/  ScreamingPiha2.wav        0    33.933061        44100  31.337007   \n",
       "\n",
       "    DURATION MANUAL ID  \n",
       "0   1.974286      bird  \n",
       "1   9.515918      bird  \n",
       "2   2.440748      bird  \n",
       "3   2.023197      bird  \n",
       "4  10.281429      bird  \n",
       "5   2.255170      bird  "
      ]
     },
     "execution_count": 52,
     "metadata": {},
     "output_type": "execute_result"
    }
   ],
   "source": [
    "automated_df"
   ]
  },
  {
   "cell_type": "code",
   "execution_count": 53,
   "id": "1cc5f5c0",
   "metadata": {
    "scrolled": true
   },
   "outputs": [],
   "source": [
    "annotation_histogram(automated_df)"
   ]
  },
  {
   "cell_type": "code",
   "execution_count": 58,
   "id": "eccaeef5",
   "metadata": {
    "scrolled": true
   },
   "outputs": [
    {
     "ename": "ValueError",
     "evalue": "The truth value of a DataFrame is ambiguous. Use a.empty, a.bool(), a.item(), a.any() or a.all().",
     "output_type": "error",
     "traceback": [
      "\u001b[1;31m---------------------------------------------------------------------------\u001b[0m",
      "\u001b[1;31mValueError\u001b[0m                                Traceback (most recent call last)",
      "\u001b[1;32m<ipython-input-58-5cd45581437e>\u001b[0m in \u001b[0;36m<module>\u001b[1;34m\u001b[0m\n\u001b[1;32m----> 1\u001b[1;33m \u001b[0mdurations\u001b[0m\u001b[1;33m=\u001b[0m\u001b[0msns\u001b[0m\u001b[1;33m.\u001b[0m\u001b[0mload_dataset\u001b[0m\u001b[1;33m(\u001b[0m\u001b[0mautomated_df\u001b[0m\u001b[1;33m)\u001b[0m\u001b[1;33m\u001b[0m\u001b[1;33m\u001b[0m\u001b[0m\n\u001b[0m\u001b[0;32m      2\u001b[0m \u001b[0msns\u001b[0m\u001b[1;33m.\u001b[0m\u001b[0mhistplot\u001b[0m\u001b[1;33m(\u001b[0m\u001b[0mx\u001b[0m\u001b[1;33m=\u001b[0m\u001b[0mdurations\u001b[0m\u001b[1;33m[\u001b[0m\u001b[1;34m\"DURATION\"\u001b[0m\u001b[1;33m]\u001b[0m\u001b[1;33m.\u001b[0m\u001b[0mset_title\u001b[0m\u001b[1;33m(\u001b[0m\u001b[1;34m\"Annotation Length (s)\"\u001b[0m\u001b[1;33m)\u001b[0m\u001b[1;33m,\u001b[0m \u001b[0mbins\u001b[0m\u001b[1;33m=\u001b[0m\u001b[1;36m15\u001b[0m\u001b[1;33m)\u001b[0m\u001b[1;33m\u001b[0m\u001b[1;33m\u001b[0m\u001b[0m\n\u001b[0;32m      3\u001b[0m \u001b[0msns\u001b[0m\u001b[1;33m.\u001b[0m\u001b[0mtitle\u001b[0m\u001b[1;33m(\u001b[0m\u001b[1;34m\"Annotation Duration Histograms\"\u001b[0m\u001b[1;33m)\u001b[0m\u001b[1;33m\u001b[0m\u001b[1;33m\u001b[0m\u001b[0m\n",
      "\u001b[1;32m~\\miniforge3\\envs\\species-id\\lib\\site-packages\\seaborn\\utils.py\u001b[0m in \u001b[0;36mload_dataset\u001b[1;34m(name, cache, data_home, **kws)\u001b[0m\n\u001b[0;32m    483\u001b[0m                                   os.path.basename(full_path))\n\u001b[0;32m    484\u001b[0m         \u001b[1;32mif\u001b[0m \u001b[1;32mnot\u001b[0m \u001b[0mos\u001b[0m\u001b[1;33m.\u001b[0m\u001b[0mpath\u001b[0m\u001b[1;33m.\u001b[0m\u001b[0mexists\u001b[0m\u001b[1;33m(\u001b[0m\u001b[0mcache_path\u001b[0m\u001b[1;33m)\u001b[0m\u001b[1;33m:\u001b[0m\u001b[1;33m\u001b[0m\u001b[1;33m\u001b[0m\u001b[0m\n\u001b[1;32m--> 485\u001b[1;33m             \u001b[1;32mif\u001b[0m \u001b[0mname\u001b[0m \u001b[1;32mnot\u001b[0m \u001b[1;32min\u001b[0m \u001b[0mget_dataset_names\u001b[0m\u001b[1;33m(\u001b[0m\u001b[1;33m)\u001b[0m\u001b[1;33m:\u001b[0m\u001b[1;33m\u001b[0m\u001b[1;33m\u001b[0m\u001b[0m\n\u001b[0m\u001b[0;32m    486\u001b[0m                 \u001b[1;32mraise\u001b[0m \u001b[0mValueError\u001b[0m\u001b[1;33m(\u001b[0m\u001b[1;34mf\"'{name}' is not one of the example datasets.\"\u001b[0m\u001b[1;33m)\u001b[0m\u001b[1;33m\u001b[0m\u001b[1;33m\u001b[0m\u001b[0m\n\u001b[0;32m    487\u001b[0m             \u001b[0murlretrieve\u001b[0m\u001b[1;33m(\u001b[0m\u001b[0mfull_path\u001b[0m\u001b[1;33m,\u001b[0m \u001b[0mcache_path\u001b[0m\u001b[1;33m)\u001b[0m\u001b[1;33m\u001b[0m\u001b[1;33m\u001b[0m\u001b[0m\n",
      "\u001b[1;32m~\\miniforge3\\envs\\species-id\\lib\\site-packages\\pandas\\core\\generic.py\u001b[0m in \u001b[0;36m__nonzero__\u001b[1;34m(self)\u001b[0m\n\u001b[0;32m   1441\u001b[0m     \u001b[1;32mdef\u001b[0m \u001b[0m__nonzero__\u001b[0m\u001b[1;33m(\u001b[0m\u001b[0mself\u001b[0m\u001b[1;33m)\u001b[0m\u001b[1;33m:\u001b[0m\u001b[1;33m\u001b[0m\u001b[1;33m\u001b[0m\u001b[0m\n\u001b[0;32m   1442\u001b[0m         raise ValueError(\n\u001b[1;32m-> 1443\u001b[1;33m             \u001b[1;34mf\"The truth value of a {type(self).__name__} is ambiguous. \"\u001b[0m\u001b[1;33m\u001b[0m\u001b[1;33m\u001b[0m\u001b[0m\n\u001b[0m\u001b[0;32m   1444\u001b[0m             \u001b[1;34m\"Use a.empty, a.bool(), a.item(), a.any() or a.all().\"\u001b[0m\u001b[1;33m\u001b[0m\u001b[1;33m\u001b[0m\u001b[0m\n\u001b[0;32m   1445\u001b[0m         )\n",
      "\u001b[1;31mValueError\u001b[0m: The truth value of a DataFrame is ambiguous. Use a.empty, a.bool(), a.item(), a.any() or a.all()."
     ]
    }
   ],
   "source": [
    "# durations=sns.load_dataset(automated_df)\n",
    "sns.histplot(x=automated_df[\"DURATION\"].set_title(\"Annotation Length (s)\"), bins=15)\n",
    "sns.title(\"Annotation Duration Histograms\")"
   ]
  },
  {
   "cell_type": "code",
   "execution_count": null,
   "id": "e9def55b",
   "metadata": {},
   "outputs": [],
   "source": []
  }
 ],
 "metadata": {
  "kernelspec": {
   "display_name": "Python 3",
   "language": "python",
   "name": "python3"
  },
  "language_info": {
   "codemirror_mode": {
    "name": "ipython",
    "version": 3
   },
   "file_extension": ".py",
   "mimetype": "text/x-python",
   "name": "python",
   "nbconvert_exporter": "python",
   "pygments_lexer": "ipython3",
   "version": "3.7.10"
  }
 },
 "nbformat": 4,
 "nbformat_minor": 5
}
